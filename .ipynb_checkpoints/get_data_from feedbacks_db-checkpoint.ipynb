{
 "cells": [
  {
   "cell_type": "code",
   "execution_count": 1,
   "id": "4691c33f",
   "metadata": {},
   "outputs": [],
   "source": [
    "import sqlite3"
   ]
  },
  {
   "cell_type": "code",
   "execution_count": 2,
   "id": "e72d9630",
   "metadata": {},
   "outputs": [],
   "source": [
    "conn = sqlite3.connect('feedbacks.db')\n",
    "cursor_obj = conn.cursor()"
   ]
  },
  {
   "cell_type": "code",
   "execution_count": 3,
   "id": "94cf1449",
   "metadata": {},
   "outputs": [],
   "source": [
    "def show_all_tables():\n",
    "    select_query = '''select name from sqlite_master  where type = 'table' '''\n",
    "    cursor_obj.execute(select_query)\n",
    "    tables = cursor_obj.fetchall()\n",
    "    return tables"
   ]
  },
  {
   "cell_type": "code",
   "execution_count": 4,
   "id": "4ccb8f13",
   "metadata": {},
   "outputs": [
    {
     "data": {
      "text/plain": [
       "[('feedbacks',), ('sqlite_sequence',)]"
      ]
     },
     "execution_count": 4,
     "metadata": {},
     "output_type": "execute_result"
    }
   ],
   "source": [
    "show_all_tables()"
   ]
  },
  {
   "cell_type": "code",
   "execution_count": 5,
   "id": "8526de00",
   "metadata": {},
   "outputs": [
    {
     "data": {
      "text/html": [
       "<div>\n",
       "<style scoped>\n",
       "    .dataframe tbody tr th:only-of-type {\n",
       "        vertical-align: middle;\n",
       "    }\n",
       "\n",
       "    .dataframe tbody tr th {\n",
       "        vertical-align: top;\n",
       "    }\n",
       "\n",
       "    .dataframe thead th {\n",
       "        text-align: right;\n",
       "    }\n",
       "</style>\n",
       "<table border=\"1\" class=\"dataframe\">\n",
       "  <thead>\n",
       "    <tr style=\"text-align: right;\">\n",
       "      <th></th>\n",
       "      <th>Spaltenname</th>\n",
       "      <th>Datentyp</th>\n",
       "      <th>Zulässt NULL</th>\n",
       "      <th>Standardwert</th>\n",
       "      <th>Primärschlüssel</th>\n",
       "      <th>Autoincrement</th>\n",
       "    </tr>\n",
       "    <tr>\n",
       "      <th>Spalten_ID</th>\n",
       "      <th></th>\n",
       "      <th></th>\n",
       "      <th></th>\n",
       "      <th></th>\n",
       "      <th></th>\n",
       "      <th></th>\n",
       "    </tr>\n",
       "  </thead>\n",
       "  <tbody>\n",
       "    <tr>\n",
       "      <th>0</th>\n",
       "      <td>id</td>\n",
       "      <td>INTEGER</td>\n",
       "      <td>0</td>\n",
       "      <td>None</td>\n",
       "      <td>1</td>\n",
       "      <td>NO</td>\n",
       "    </tr>\n",
       "    <tr>\n",
       "      <th>1</th>\n",
       "      <td>name</td>\n",
       "      <td>TEXT</td>\n",
       "      <td>0</td>\n",
       "      <td>None</td>\n",
       "      <td>0</td>\n",
       "      <td>NO</td>\n",
       "    </tr>\n",
       "    <tr>\n",
       "      <th>2</th>\n",
       "      <td>email</td>\n",
       "      <td>TEXT</td>\n",
       "      <td>0</td>\n",
       "      <td>None</td>\n",
       "      <td>0</td>\n",
       "      <td>NO</td>\n",
       "    </tr>\n",
       "    <tr>\n",
       "      <th>3</th>\n",
       "      <td>feedback</td>\n",
       "      <td>TEXT</td>\n",
       "      <td>0</td>\n",
       "      <td>None</td>\n",
       "      <td>0</td>\n",
       "      <td>NO</td>\n",
       "    </tr>\n",
       "  </tbody>\n",
       "</table>\n",
       "</div>"
      ],
      "text/plain": [
       "           Spaltenname Datentyp  Zulässt NULL Standardwert  Primärschlüssel  \\\n",
       "Spalten_ID                                                                    \n",
       "0                   id  INTEGER             0         None                1   \n",
       "1                 name     TEXT             0         None                0   \n",
       "2                email     TEXT             0         None                0   \n",
       "3             feedback     TEXT             0         None                0   \n",
       "\n",
       "           Autoincrement  \n",
       "Spalten_ID                \n",
       "0                     NO  \n",
       "1                     NO  \n",
       "2                     NO  \n",
       "3                     NO  "
      ]
     },
     "execution_count": 5,
     "metadata": {},
     "output_type": "execute_result"
    }
   ],
   "source": [
    "# Infos über Tabelle anzeigen\n",
    "def get_table_columns_info_df(table_name):\n",
    "    def get_table_columns_info(table_name):\n",
    "        query = \"PRAGMA table_info({})\".format(table_name)\n",
    "        cursor_obj.execute(query)\n",
    "        columns_info = cursor_obj.fetchall()\n",
    "\n",
    "        columns_info_with_autoincrement = []\n",
    "        for column_info in columns_info:\n",
    "            cid, name, data_type, not_null, default_value, primary_key = column_info\n",
    "            autoincrement = 'YES' if default_value and 'AUTOINCREMENT' in default_value else 'NO'\n",
    "            columns_info_with_autoincrement.append((cid, name, data_type, not_null, default_value, primary_key, autoincrement))\n",
    "\n",
    "        return columns_info_with_autoincrement\n",
    "    # columns_info_with_autoincrement zu Dataframe umwandeln    \n",
    "    import pandas as pd    \n",
    "    columns_info = get_table_columns_info(table_name)\n",
    "    column_names = [\"Spalten_ID\",\"Spaltenname\", \"Datentyp\", \"Zulässt NULL\", \"Standardwert\", \"Primärschlüssel\", \"Autoincrement\"]\n",
    "    df = pd.DataFrame(columns_info, columns=column_names)\n",
    "    df.set_index('Spalten_ID', inplace=True)\n",
    "    return df\n",
    "\n",
    "# Infos über Tabelle \"fahrrad\" als DataFrame\n",
    "get_table_columns_info_df('feedbacks')"
   ]
  },
  {
   "cell_type": "code",
   "execution_count": 6,
   "id": "3737cec2",
   "metadata": {},
   "outputs": [
    {
     "data": {
      "text/plain": [
       "<sqlite3.Cursor at 0x1771db08140>"
      ]
     },
     "execution_count": 6,
     "metadata": {},
     "output_type": "execute_result"
    }
   ],
   "source": [
    "# Alle Daten der Tabelle `feedbacks` anzeigen\n",
    "select_query = '''SELECT * FROM feedbacks'''\n",
    "cursor_obj.execute(select_query)"
   ]
  },
  {
   "cell_type": "code",
   "execution_count": 7,
   "id": "abdf9a37",
   "metadata": {},
   "outputs": [],
   "source": [
    "values_all = cursor_obj.fetchall()"
   ]
  },
  {
   "cell_type": "code",
   "execution_count": null,
   "id": "af4105b5",
   "metadata": {},
   "outputs": [],
   "source": []
  },
  {
   "cell_type": "code",
   "execution_count": 8,
   "id": "0b9c4090",
   "metadata": {},
   "outputs": [
    {
     "name": "stdout",
     "output_type": "stream",
     "text": [
      "(1, 'solaiman', 'solaiman@gmail.com', 'nicht schlecht')\n"
     ]
    }
   ],
   "source": [
    "for tuple in values_all:\n",
    "    print(tuple)"
   ]
  },
  {
   "cell_type": "code",
   "execution_count": 9,
   "id": "8fbb4487",
   "metadata": {},
   "outputs": [],
   "source": [
    "conn.close()"
   ]
  },
  {
   "cell_type": "code",
   "execution_count": null,
   "id": "568fec92",
   "metadata": {},
   "outputs": [],
   "source": []
  }
 ],
 "metadata": {
  "kernelspec": {
   "display_name": "Python 3 (ipykernel)",
   "language": "python",
   "name": "python3"
  },
  "language_info": {
   "codemirror_mode": {
    "name": "ipython",
    "version": 3
   },
   "file_extension": ".py",
   "mimetype": "text/x-python",
   "name": "python",
   "nbconvert_exporter": "python",
   "pygments_lexer": "ipython3",
   "version": "3.11.9"
  }
 },
 "nbformat": 4,
 "nbformat_minor": 5
}
